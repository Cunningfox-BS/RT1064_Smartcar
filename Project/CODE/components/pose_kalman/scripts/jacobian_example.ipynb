{
 "cells": [
  {
   "cell_type": "code",
   "execution_count": 1,
   "metadata": {},
   "outputs": [],
   "source": [
    "import sympy\n",
    "from sympy import sin, cos, atan2, diff, Matrix"
   ]
  },
  {
   "cell_type": "code",
   "execution_count": 2,
   "metadata": {},
   "outputs": [],
   "source": [
    "x_x, x_y, x_theta = sympy.symbols('x_x x_y x_theta')\n",
    "res_x, res_y, res_theta = sympy.symbols('res_x res_y res_theta')\n",
    "u_v, u_dtheta = sympy.symbols('u_v u_dtheta')"
   ]
  },
  {
   "cell_type": "code",
   "execution_count": 3,
   "metadata": {},
   "outputs": [],
   "source": [
    "res_theta = x_theta + u_dtheta\n",
    "res_x = x_x + u_v * cos(res_theta)\n",
    "res_y = x_y + u_v * sin(res_theta)"
   ]
  },
  {
   "cell_type": "code",
   "execution_count": 4,
   "metadata": {},
   "outputs": [],
   "source": [
    "funcs = Matrix([res_x, res_y, res_theta])\n",
    "args = Matrix([x_x, x_y, x_theta])\n",
    "res = funcs.jacobian(args)"
   ]
  },
  {
   "cell_type": "code",
   "execution_count": 5,
   "metadata": {},
   "outputs": [],
   "source": [
    "res = sympy.simplify(res)"
   ]
  },
  {
   "cell_type": "code",
   "execution_count": 6,
   "metadata": {},
   "outputs": [
    {
     "data": {
      "text/latex": [
       "$\\displaystyle \\left[\\begin{matrix}1 & 0 & - u_{v} \\sin{\\left(u_{dtheta} + x_{\\theta} \\right)}\\\\0 & 1 & u_{v} \\cos{\\left(u_{dtheta} + x_{\\theta} \\right)}\\\\0 & 0 & 1\\end{matrix}\\right]$"
      ],
      "text/plain": [
       "Matrix([\n",
       "[1, 0, -u_v*sin(u_dtheta + x_theta)],\n",
       "[0, 1,  u_v*cos(u_dtheta + x_theta)],\n",
       "[0, 0,                            1]])"
      ]
     },
     "execution_count": 6,
     "metadata": {},
     "output_type": "execute_result"
    }
   ],
   "source": [
    "res"
   ]
  },
  {
   "cell_type": "code",
   "execution_count": 7,
   "metadata": {},
   "outputs": [
    {
     "name": "stdout",
     "output_type": "stream",
     "text": [
      "1\n",
      "0\n",
      "-u_v*sin(u_dtheta + x_theta)\n",
      "0\n",
      "1\n",
      "u_v*cos(u_dtheta + x_theta)\n",
      "0\n",
      "0\n",
      "1\n"
     ]
    }
   ],
   "source": [
    "for v in res:\n",
    "    print(v)"
   ]
  }
 ],
 "metadata": {
  "interpreter": {
   "hash": "51f2d782bbc638f18148254b4e32381460de17e865ba9523a339e29c2a6d7bef"
  },
  "kernelspec": {
   "display_name": "Python 3.9.2 ('roboticsENV')",
   "language": "python",
   "name": "python3"
  },
  "language_info": {
   "codemirror_mode": {
    "name": "ipython",
    "version": 3
   },
   "file_extension": ".py",
   "mimetype": "text/x-python",
   "name": "python",
   "nbconvert_exporter": "python",
   "pygments_lexer": "ipython3",
   "version": "3.9.12"
  },
  "orig_nbformat": 4
 },
 "nbformat": 4,
 "nbformat_minor": 2
}
