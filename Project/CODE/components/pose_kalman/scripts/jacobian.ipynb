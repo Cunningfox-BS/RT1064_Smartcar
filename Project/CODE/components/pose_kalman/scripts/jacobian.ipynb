{
 "cells": [
  {
   "cell_type": "code",
   "execution_count": 31,
   "metadata": {},
   "outputs": [],
   "source": [
    "import sympy\n",
    "from sympy import sin, cos, atan2, diff, Matrix"
   ]
  },
  {
   "cell_type": "code",
   "execution_count": 32,
   "metadata": {},
   "outputs": [],
   "source": [
    "x, y, ox, oy, vX, vY, vYaw = sympy.symbols(\"x_x x_y x_ox x_oy x_vX x_vY x_vYaw\")\n",
    "res_x, res_y, res_ox, res_oy, res_vX, res_vY, res_vYaw = sympy.symbols(\n",
    "    \"res_x res_y res_ox res_oy res_vX res_vY res_vYaw\"\n",
    ")\n",
    "u_vX, u_vY, u_vYaw, u_dt = sympy.symbols(\"u_vX u_vY u_vYaw u_dt\")"
   ]
  },
  {
   "cell_type": "code",
   "execution_count": 33,
   "metadata": {},
   "outputs": [],
   "source": [
    "pre_yaw = atan2(oy, ox)\n",
    "cur_yaw = pre_yaw + u_vYaw * u_dt\n",
    "res_ox = cos(cur_yaw)\n",
    "res_oy = sin(cur_yaw)\n",
    "\n",
    "res_vX = u_vX * res_ox - u_vY * res_oy\n",
    "res_vY = u_vX * res_oy + u_vY * res_ox\n",
    "res_vYaw = u_vYaw\n",
    "\n",
    "res_x = x + res_vX * u_dt\n",
    "res_y = y + res_vY * u_dt"
   ]
  },
  {
   "cell_type": "code",
   "execution_count": 35,
   "metadata": {},
   "outputs": [],
   "source": [
    "funcs = Matrix([res_x, res_y, res_ox, res_oy, res_vX, res_vY, res_vYaw])\n",
    "args = Matrix([x, y, ox, oy, vX, vY, vYaw])\n",
    "res = funcs.jacobian(args)"
   ]
  },
  {
   "cell_type": "code",
   "execution_count": 37,
   "metadata": {},
   "outputs": [],
   "source": [
    "res = sympy.simplify(res)"
   ]
  },
  {
   "cell_type": "code",
   "execution_count": 38,
   "metadata": {},
   "outputs": [
    {
     "data": {
      "text/latex": [
       "$\\displaystyle \\left[\\begin{matrix}1 & 0 & \\frac{u_{dt} x_{oy} \\left(u_{vX} \\sin{\\left(u_{dt} u_{vYaw} + \\operatorname{atan_{2}}{\\left(x_{oy},x_{ox} \\right)} \\right)} + u_{vY} \\cos{\\left(u_{dt} u_{vYaw} + \\operatorname{atan_{2}}{\\left(x_{oy},x_{ox} \\right)} \\right)}\\right)}{x_{ox}^{2} + x_{oy}^{2}} & - \\frac{u_{dt} x_{ox} \\left(u_{vX} \\sin{\\left(u_{dt} u_{vYaw} + \\operatorname{atan_{2}}{\\left(x_{oy},x_{ox} \\right)} \\right)} + u_{vY} \\cos{\\left(u_{dt} u_{vYaw} + \\operatorname{atan_{2}}{\\left(x_{oy},x_{ox} \\right)} \\right)}\\right)}{x_{ox}^{2} + x_{oy}^{2}} & 0 & 0 & 0\\\\0 & 1 & \\frac{u_{dt} x_{oy} \\left(- u_{vX} \\cos{\\left(u_{dt} u_{vYaw} + \\operatorname{atan_{2}}{\\left(x_{oy},x_{ox} \\right)} \\right)} + u_{vY} \\sin{\\left(u_{dt} u_{vYaw} + \\operatorname{atan_{2}}{\\left(x_{oy},x_{ox} \\right)} \\right)}\\right)}{x_{ox}^{2} + x_{oy}^{2}} & \\frac{u_{dt} x_{ox} \\left(u_{vX} \\cos{\\left(u_{dt} u_{vYaw} + \\operatorname{atan_{2}}{\\left(x_{oy},x_{ox} \\right)} \\right)} - u_{vY} \\sin{\\left(u_{dt} u_{vYaw} + \\operatorname{atan_{2}}{\\left(x_{oy},x_{ox} \\right)} \\right)}\\right)}{x_{ox}^{2} + x_{oy}^{2}} & 0 & 0 & 0\\\\0 & 0 & \\frac{x_{oy} \\sin{\\left(u_{dt} u_{vYaw} + \\operatorname{atan_{2}}{\\left(x_{oy},x_{ox} \\right)} \\right)}}{x_{ox}^{2} + x_{oy}^{2}} & - \\frac{x_{ox} \\sin{\\left(u_{dt} u_{vYaw} + \\operatorname{atan_{2}}{\\left(x_{oy},x_{ox} \\right)} \\right)}}{x_{ox}^{2} + x_{oy}^{2}} & 0 & 0 & 0\\\\0 & 0 & - \\frac{x_{oy} \\cos{\\left(u_{dt} u_{vYaw} + \\operatorname{atan_{2}}{\\left(x_{oy},x_{ox} \\right)} \\right)}}{x_{ox}^{2} + x_{oy}^{2}} & \\frac{x_{ox} \\cos{\\left(u_{dt} u_{vYaw} + \\operatorname{atan_{2}}{\\left(x_{oy},x_{ox} \\right)} \\right)}}{x_{ox}^{2} + x_{oy}^{2}} & 0 & 0 & 0\\\\0 & 0 & \\frac{x_{oy} \\left(u_{vX} \\sin{\\left(u_{dt} u_{vYaw} + \\operatorname{atan_{2}}{\\left(x_{oy},x_{ox} \\right)} \\right)} + u_{vY} \\cos{\\left(u_{dt} u_{vYaw} + \\operatorname{atan_{2}}{\\left(x_{oy},x_{ox} \\right)} \\right)}\\right)}{x_{ox}^{2} + x_{oy}^{2}} & - \\frac{x_{ox} \\left(u_{vX} \\sin{\\left(u_{dt} u_{vYaw} + \\operatorname{atan_{2}}{\\left(x_{oy},x_{ox} \\right)} \\right)} + u_{vY} \\cos{\\left(u_{dt} u_{vYaw} + \\operatorname{atan_{2}}{\\left(x_{oy},x_{ox} \\right)} \\right)}\\right)}{x_{ox}^{2} + x_{oy}^{2}} & 0 & 0 & 0\\\\0 & 0 & \\frac{x_{oy} \\left(- u_{vX} \\cos{\\left(u_{dt} u_{vYaw} + \\operatorname{atan_{2}}{\\left(x_{oy},x_{ox} \\right)} \\right)} + u_{vY} \\sin{\\left(u_{dt} u_{vYaw} + \\operatorname{atan_{2}}{\\left(x_{oy},x_{ox} \\right)} \\right)}\\right)}{x_{ox}^{2} + x_{oy}^{2}} & \\frac{x_{ox} \\left(u_{vX} \\cos{\\left(u_{dt} u_{vYaw} + \\operatorname{atan_{2}}{\\left(x_{oy},x_{ox} \\right)} \\right)} - u_{vY} \\sin{\\left(u_{dt} u_{vYaw} + \\operatorname{atan_{2}}{\\left(x_{oy},x_{ox} \\right)} \\right)}\\right)}{x_{ox}^{2} + x_{oy}^{2}} & 0 & 0 & 0\\\\0 & 0 & 0 & 0 & 0 & 0 & 0\\end{matrix}\\right]$"
      ],
      "text/plain": [
       "Matrix([\n",
       "[1, 0,  u_dt*x_oy*(u_vX*sin(u_dt*u_vYaw + atan2(x_oy, x_ox)) + u_vY*cos(u_dt*u_vYaw + atan2(x_oy, x_ox)))/(x_ox**2 + x_oy**2), -u_dt*x_ox*(u_vX*sin(u_dt*u_vYaw + atan2(x_oy, x_ox)) + u_vY*cos(u_dt*u_vYaw + atan2(x_oy, x_ox)))/(x_ox**2 + x_oy**2), 0, 0, 0],\n",
       "[0, 1, u_dt*x_oy*(-u_vX*cos(u_dt*u_vYaw + atan2(x_oy, x_ox)) + u_vY*sin(u_dt*u_vYaw + atan2(x_oy, x_ox)))/(x_ox**2 + x_oy**2),  u_dt*x_ox*(u_vX*cos(u_dt*u_vYaw + atan2(x_oy, x_ox)) - u_vY*sin(u_dt*u_vYaw + atan2(x_oy, x_ox)))/(x_ox**2 + x_oy**2), 0, 0, 0],\n",
       "[0, 0,                                                          x_oy*sin(u_dt*u_vYaw + atan2(x_oy, x_ox))/(x_ox**2 + x_oy**2),                                                         -x_ox*sin(u_dt*u_vYaw + atan2(x_oy, x_ox))/(x_ox**2 + x_oy**2), 0, 0, 0],\n",
       "[0, 0,                                                         -x_oy*cos(u_dt*u_vYaw + atan2(x_oy, x_ox))/(x_ox**2 + x_oy**2),                                                          x_ox*cos(u_dt*u_vYaw + atan2(x_oy, x_ox))/(x_ox**2 + x_oy**2), 0, 0, 0],\n",
       "[0, 0,       x_oy*(u_vX*sin(u_dt*u_vYaw + atan2(x_oy, x_ox)) + u_vY*cos(u_dt*u_vYaw + atan2(x_oy, x_ox)))/(x_ox**2 + x_oy**2),      -x_ox*(u_vX*sin(u_dt*u_vYaw + atan2(x_oy, x_ox)) + u_vY*cos(u_dt*u_vYaw + atan2(x_oy, x_ox)))/(x_ox**2 + x_oy**2), 0, 0, 0],\n",
       "[0, 0,      x_oy*(-u_vX*cos(u_dt*u_vYaw + atan2(x_oy, x_ox)) + u_vY*sin(u_dt*u_vYaw + atan2(x_oy, x_ox)))/(x_ox**2 + x_oy**2),       x_ox*(u_vX*cos(u_dt*u_vYaw + atan2(x_oy, x_ox)) - u_vY*sin(u_dt*u_vYaw + atan2(x_oy, x_ox)))/(x_ox**2 + x_oy**2), 0, 0, 0],\n",
       "[0, 0,                                                                                                                      0,                                                                                                                      0, 0, 0, 0]])"
      ]
     },
     "execution_count": 38,
     "metadata": {},
     "output_type": "execute_result"
    }
   ],
   "source": [
    "res"
   ]
  },
  {
   "cell_type": "code",
   "execution_count": 30,
   "metadata": {},
   "outputs": [
    {
     "name": "stdout",
     "output_type": "stream",
     "text": [
      "1\n",
      "0\n",
      "u_dt*x_oy*(u_vX*sin(u_dt*u_vYaw + atan2(x_oy, x_ox)) + u_vY*cos(u_dt*u_vYaw + atan2(x_oy, x_ox)))/(x_ox**2 + x_oy**2)\n",
      "-u_dt*x_ox*(u_vX*sin(u_dt*u_vYaw + atan2(x_oy, x_ox)) + u_vY*cos(u_dt*u_vYaw + atan2(x_oy, x_ox)))/(x_ox**2 + x_oy**2)\n",
      "0\n",
      "0\n",
      "0\n",
      "0\n",
      "1\n",
      "u_dt*x_oy*(-u_vX*cos(u_dt*u_vYaw + atan2(x_oy, x_ox)) + u_vY*sin(u_dt*u_vYaw + atan2(x_oy, x_ox)))/(x_ox**2 + x_oy**2)\n",
      "u_dt*x_ox*(u_vX*cos(u_dt*u_vYaw + atan2(x_oy, x_ox)) - u_vY*sin(u_dt*u_vYaw + atan2(x_oy, x_ox)))/(x_ox**2 + x_oy**2)\n",
      "0\n",
      "0\n",
      "0\n",
      "0\n",
      "0\n",
      "x_oy*sin(u_dt*u_vYaw + atan2(x_oy, x_ox))/(x_ox**2 + x_oy**2)\n",
      "-x_ox*sin(u_dt*u_vYaw + atan2(x_oy, x_ox))/(x_ox**2 + x_oy**2)\n",
      "0\n",
      "0\n",
      "0\n",
      "0\n",
      "0\n",
      "-x_oy*cos(u_dt*u_vYaw + atan2(x_oy, x_ox))/(x_ox**2 + x_oy**2)\n",
      "x_ox*cos(u_dt*u_vYaw + atan2(x_oy, x_ox))/(x_ox**2 + x_oy**2)\n",
      "0\n",
      "0\n",
      "0\n",
      "0\n",
      "0\n",
      "x_oy*(u_vX*sin(u_dt*u_vYaw + atan2(x_oy, x_ox)) + u_vY*cos(u_dt*u_vYaw + atan2(x_oy, x_ox)))/(x_ox**2 + x_oy**2)\n",
      "-x_ox*(u_vX*sin(u_dt*u_vYaw + atan2(x_oy, x_ox)) + u_vY*cos(u_dt*u_vYaw + atan2(x_oy, x_ox)))/(x_ox**2 + x_oy**2)\n",
      "0\n",
      "0\n",
      "0\n",
      "0\n",
      "0\n",
      "x_oy*(-u_vX*cos(u_dt*u_vYaw + atan2(x_oy, x_ox)) + u_vY*sin(u_dt*u_vYaw + atan2(x_oy, x_ox)))/(x_ox**2 + x_oy**2)\n",
      "x_ox*(u_vX*cos(u_dt*u_vYaw + atan2(x_oy, x_ox)) - u_vY*sin(u_dt*u_vYaw + atan2(x_oy, x_ox)))/(x_ox**2 + x_oy**2)\n",
      "0\n",
      "0\n",
      "0\n",
      "0\n",
      "0\n",
      "0\n",
      "0\n",
      "0\n",
      "0\n",
      "0\n"
     ]
    }
   ],
   "source": [
    "for v in res:\n",
    "    print(v)"
   ]
  }
 ],
 "metadata": {
  "interpreter": {
   "hash": "51f2d782bbc638f18148254b4e32381460de17e865ba9523a339e29c2a6d7bef"
  },
  "kernelspec": {
   "display_name": "Python 3.9.2 ('roboticsENV')",
   "language": "python",
   "name": "python3"
  },
  "language_info": {
   "codemirror_mode": {
    "name": "ipython",
    "version": 3
   },
   "file_extension": ".py",
   "mimetype": "text/x-python",
   "name": "python",
   "nbconvert_exporter": "python",
   "pygments_lexer": "ipython3",
   "version": "3.9.2"
  },
  "orig_nbformat": 4
 },
 "nbformat": 4,
 "nbformat_minor": 2
}
